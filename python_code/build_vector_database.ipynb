{
 "cells": [
  {
   "cell_type": "code",
   "execution_count": 1,
   "metadata": {},
   "outputs": [
    {
     "data": {
      "text/plain": [
       "True"
      ]
     },
     "execution_count": 1,
     "metadata": {},
     "output_type": "execute_result"
    }
   ],
   "source": [
    "from pinecone import Pinecone, ServerlessSpec\n",
    "import os\n",
    "from openai import OpenAI\n",
    "import pandas as pd\n",
    "from time import time\n",
    "import dotenv\n",
    "dotenv.load_dotenv()"
   ]
  },
  {
   "cell_type": "code",
   "execution_count": 2,
   "metadata": {},
   "outputs": [],
   "source": [
    "token= os.getenv(\"RUNPOD_TOKEN\") \n",
    "open_ai_base_url = os.getenv(\"RUNPOD_EMBEDDING_URL\") \n",
    "model_name= os.getenv(\"MODEL_NAME\") \n",
    "pinecone_api_key = os.getenv(\"PINECONE_API_KEY\") "
   ]
  },
  {
   "cell_type": "code",
   "execution_count": 4,
   "metadata": {},
   "outputs": [],
   "source": [
    "pc = Pinecone(api_key=pinecone_api_key)\n",
    "\n",
    "client = OpenAI(\n",
    "  api_key=token, \n",
    "  base_url=open_ai_base_url\n",
    ")"
   ]
  },
  {
   "cell_type": "markdown",
   "metadata": {},
   "source": []
  },
  {
   "cell_type": "markdown",
   "metadata": {},
   "source": [
    "## Try out embeddings"
   ]
  },
  {
   "cell_type": "code",
   "execution_count": 5,
   "metadata": {},
   "outputs": [
    {
     "name": "stdout",
     "output_type": "stream",
     "text": [
      "[-0.055366937071084976, -0.056556638330221176, 0.08584163337945938, -0.06238313391804695, 0.01755574159324169, -0.01140131801366806, 0.052316416054964066, 0.05259096249938011, 0.028903676196932793, -0.022573847323656082, -0.013201124966144562, -0.04783215373754501, 0.029452770948410034, 0.031847428530454636, 0.056312598288059235, -0.008991407230496407, 0.012819809839129448, -0.05423824489116669, -0.10365666449069977, -0.019553832709789276, 0.02913246490061283, 0.05204186961054802, -0.02882741391658783, -0.034775927662849426, 0.001531932968646288, -0.00663869408890605, 0.019736863672733307, 0.03556906431913376, -0.008488072082400322, -0.07382258027791977, -0.0005252613918855786, -0.012873194180428982, 0.046581439673900604, -0.00035176306846551597, 0.05137075483798981, 0.0004532882012426853, 0.05960715934634209, -0.025029515847563744, -0.07791028171777725, -0.005586264654994011, 0.060491811484098434, -0.02512103132903576, -0.0016205887077376246, -0.016579575836658478, 0.022512836381793022, -0.042097173631191254, 0.03001711703836918, 0.04566628485918045, 0.05024206265807152, 0.0176014993339777, -0.0014775956515222788, 0.006062908563762903, -0.0161219984292984, 0.007725441828370094, 0.041151512414216995, 0.09468813985586166, 0.07827634364366531, -0.007412763312458992, 0.021917985752224922, 0.01618300750851631, 0.025288810953497887, 0.024800727143883705, -0.13715137541294098, 0.07272439450025558, 0.005738790612667799, -0.042341217398643494, 0.024663453921675682, -0.01599997654557228, -0.007580542005598545, 0.008838881738483906, 0.018303120508790016, -0.008518576622009277, -0.028156299144029617, 0.029162971302866936, 0.0030448001343756914, 0.02153667062520981, 0.04380546510219574, -0.026646291837096214, 0.04066343232989311, -0.05484834685921669, -0.011637733317911625, -0.0007154422346502542, 0.030123883858323097, 0.009304085746407509, -0.0013107702834531665, -0.03248803690075874, -0.006863669957965612, 0.06784356385469437, -0.04618487134575844, 0.03892463445663452, -0.021704450249671936, -0.009060043841600418, 0.03444036841392517, 0.052255406975746155, -0.03813149780035019, -0.03791796416044235, -0.004495703615248203, 0.03654522821307182, -0.021978996694087982, 0.3074924051761627, -0.06570819765329361, 0.028095288202166557, 0.08138787001371384, -0.04285980388522148, -0.007172535173594952, 0.0459713339805603, -0.00781695730984211, -0.009204943664371967, 0.003313627326861024, -0.008655850775539875, 0.013056225143373013, -0.031084798276424408, 0.017952309921383858, 0.003519537393003702, 0.039656758308410645, -0.015023810788989067, 0.010913235135376453, 0.02171970158815384, 0.10939164459705353, -0.05176732316613197, 0.015435631386935711, 0.009784542955458164, -0.07211428880691528, 0.014192543923854828, 0.06436596810817719, -0.05396369844675064, 0.08846507966518402, 0.10408373922109604, -0.0026005683466792107, 0.023855065926909447, 0.008305040188133717, 0.054177235811948776, -0.059424128383398056, -0.010127726010978222, -0.01886746659874916, 0.005468057002872229, -0.028125794604420662, -0.02983408421278, -0.025624368339776993, -0.040083833038806915, -0.013254509307444096, -0.09706754237413406, -0.01294945739209652, -0.11842118203639984, 0.019477570429444313, 0.012301221489906311, -0.012720667757093906, 0.011645359918475151, -0.013117236085236073, 0.01363582443445921, -0.02380930818617344, 0.028568118810653687, -0.04203616455197334, -0.024876989424228668, 0.010257373563945293, -0.03392178192734718, 0.030901767313480377, 0.037460386753082275, 0.01944706402719021, 0.025975177064538002, -0.019187770783901215, -0.03868059441447258, 0.013750218786299229, -0.04469011723995209, -0.05914958193898201, -0.13214851915836334, -0.0012850315542891622, 0.018287867307662964, 0.007755946833640337, 0.045452747493982315, 0.053506121039390564, 0.025227800011634827, -0.03636219725012779, 0.008777870796620846, 0.11469954997301102, -0.002615820849314332, -0.007698749657720327, 0.01569492556154728, -0.023412739858031273, -0.008289787918329239, 0.04450708627700806, -0.06399990618228912, -0.021109597757458687, -0.03492845222353935, 0.023351730778813362, -0.02173495478928089, 0.012873194180428982, 0.014596737921237946, -0.0033765442203730345, 0.03511148318648338, -0.01363582443445921, 0.03251854330301285, 0.018470898270606995, 0.006356521043926477, -0.04200565814971924, 0.012636778876185417, 0.03953474014997482, -0.056617651134729385, 0.014360322616994381, -0.012034301646053791, 0.04261576384305954, -0.0020076234359294176, -0.0016796925337985158, 0.03097802959382534, 0.06253565847873688, -0.00696662487462163, 0.030947525054216385, -0.010783587582409382, 0.03175591304898262, 0.018287867307662964, -0.02220778539776802, -0.036728259176015854, 0.10054513812065125, 0.023061931133270264, -0.012682536616921425, -0.0829741433262825, -0.027897004038095474, 0.04523921012878418, -0.0429513193666935, 0.04249374195933342, 0.009509995579719543, -0.005940887611359358, -0.09090549498796463, -0.2918737530708313, 0.06345081329345703, -0.007862715050578117, -0.03831452876329422, 0.014024765230715275, -0.05301803722977638, 0.06238313391804695, -0.003733073826879263, 0.08901417255401611, -0.007244985084980726, 0.012758799828588963, -0.07540885359048843, 0.00504479743540287, 0.0018274520989507437, 0.014528101310133934, 0.04636790230870247, -0.010249746963381767, -0.022634858265519142, 0.013567187823355198, -0.03669775649905205, 0.004316485952585936, -0.003105810610577464, 0.02147565968334675, -0.027729226276278496, 0.0009556707227602601, -0.014375574886798859, 0.1444726288318634, 0.1349550038576126, 0.025929419323801994, 0.0034470874816179276, 0.04984549432992935, -0.061803534626960754, -0.007733067963272333, -0.17241539061069489, 0.03617916628718376, 0.06991791725158691, -0.004857953172177076, -0.1008501872420311, -0.05640411376953125, -0.009647269733250141, -0.0265547763556242, 0.01241561584174633, 0.007984736002981663, -0.040144842118024826, 0.0022306926548480988, -0.10286353528499603, -0.04099898785352707, 0.05463481321930885, -0.06918579339981079, 0.011386065743863583, 0.024282138794660568, -0.038467057049274445, 0.025029515847563744, 0.047069523483514786, 0.029651053249835968, -0.08486546576023102, -0.014253554865717888, -0.029498528689146042, -0.022406069561839104, 0.09389500319957733, -0.015100074000656605, 0.0381925106048584, -0.013231630437076092, -0.010821719653904438, -0.04771013185381889, 0.05884452909231186, -0.005353662651032209, -0.013399409130215645, 0.09883684664964676, -0.0018550974782556295, -0.013063851743936539, -0.05759381502866745, -0.03175591304898262, -0.009128681384027004, 0.03511148318648338, 0.038039982318878174, 0.012697788886725903, 0.0006877969135530293, -0.021460408344864845, -0.03386077284812927, 0.045391738414764404, -0.02448042295873165, 0.0471305325627327, 0.00024058592680376023, -0.024388907477259636, 0.07797128707170486, 0.06232212111353874, -0.027500437572598457, 0.01718967966735363, -0.04853377118706703, -0.0026577655225992203, 0.018181098625063896, 0.008632971905171871, -0.09627441316843033, 0.009334591217339039, -0.03688078746199608, -0.2804037928581238, 0.06143747270107269, 0.004190651699900627, 0.004285980481654406, -0.046520430594682693, 0.05979019030928612, 0.029086707159876823, 0.029376506805419922, -0.07083307206630707, 0.0060285902582108974, -0.031725406646728516, 0.08071675896644592, 0.04749659448862076, 0.010638688690960407, -0.06729447096586227, 0.07644602656364441, 0.02585315704345703, -0.041212525218725204, 0.00853382982313633, -0.034287843853235245, 0.0035443229135125875, -0.0041487072594463825, 0.19352498650550842, -0.061803534626960754, 0.07492077350616455, 0.014337443746626377, -0.018165845423936844, -0.0006858903216198087, -0.02441941201686859, -0.018592918291687965, -0.012812184169888496, 0.01187414862215519, -0.01778453215956688, -0.060491811484098434, 0.023138193413615227, 0.012247837148606777, -0.07016196101903915, 0.020987577736377716, 0.011004750616848469, -0.030413683503866196, -0.06936882436275482, -0.015923714265227318, -0.07510380446910858, 0.017052406445145607, 0.05677017569541931, -0.02786649949848652, -0.019736863672733307, -0.023626277223229408, -0.004709240049123764, 0.008671103045344353, 0.009380348958075047, 0.0014356509782373905, -0.0015538586303591728, 0.031481366604566574, 0.01593896746635437, -0.013773097656667233, -0.02608194574713707, -0.005803614389151335, 0.024922747164964676, -0.05802088975906372, -0.008045746013522148, -0.046947501599788666, 0.03517249599099159, 0.04569678753614426, -0.015801694244146347]\n"
     ]
    }
   ],
   "source": [
    "output = client.embeddings.create(input = [\"helloo there\"],model=model_name)\n",
    "embedings = output.data[0].embedding\n",
    "print(embedings)"
   ]
  },
  {
   "cell_type": "code",
   "execution_count": 6,
   "metadata": {},
   "outputs": [
    {
     "data": {
      "text/plain": [
       "384"
      ]
     },
     "execution_count": 6,
     "metadata": {},
     "output_type": "execute_result"
    }
   ],
   "source": [
    "len(embedings)"
   ]
  },
  {
   "cell_type": "code",
   "execution_count": null,
   "metadata": {},
   "outputs": [],
   "source": []
  },
  {
   "cell_type": "markdown",
   "metadata": {},
   "source": [
    "## Wrangle dataset"
   ]
  },
  {
   "cell_type": "code",
   "execution_count": 7,
   "metadata": {},
   "outputs": [],
   "source": [
    "df=pd.read_json('products/products.jsonl',lines=True)"
   ]
  },
  {
   "cell_type": "code",
   "execution_count": 8,
   "metadata": {},
   "outputs": [
    {
     "data": {
      "text/html": [
       "<div>\n",
       "<style scoped>\n",
       "    .dataframe tbody tr th:only-of-type {\n",
       "        vertical-align: middle;\n",
       "    }\n",
       "\n",
       "    .dataframe tbody tr th {\n",
       "        vertical-align: top;\n",
       "    }\n",
       "\n",
       "    .dataframe thead th {\n",
       "        text-align: right;\n",
       "    }\n",
       "</style>\n",
       "<table border=\"1\" class=\"dataframe\">\n",
       "  <thead>\n",
       "    <tr style=\"text-align: right;\">\n",
       "      <th></th>\n",
       "      <th>name</th>\n",
       "      <th>category</th>\n",
       "      <th>description</th>\n",
       "      <th>ingredients</th>\n",
       "      <th>price</th>\n",
       "      <th>rating</th>\n",
       "      <th>image_path</th>\n",
       "    </tr>\n",
       "  </thead>\n",
       "  <tbody>\n",
       "    <tr>\n",
       "      <th>0</th>\n",
       "      <td>Cappuccino</td>\n",
       "      <td>Coffee</td>\n",
       "      <td>A rich and creamy cappuccino made with freshly...</td>\n",
       "      <td>[Espresso, Steamed Milk, Milk Foam]</td>\n",
       "      <td>4.50</td>\n",
       "      <td>4.7</td>\n",
       "      <td>cappuccino.jpg</td>\n",
       "    </tr>\n",
       "    <tr>\n",
       "      <th>1</th>\n",
       "      <td>Jumbo Savory Scone</td>\n",
       "      <td>Bakery</td>\n",
       "      <td>Deliciously flaky and buttery, this jumbo savo...</td>\n",
       "      <td>[Flour, Butter, Cheese, Herbs, Baking Powder, ...</td>\n",
       "      <td>3.25</td>\n",
       "      <td>4.3</td>\n",
       "      <td>SavoryScone.webp</td>\n",
       "    </tr>\n",
       "  </tbody>\n",
       "</table>\n",
       "</div>"
      ],
      "text/plain": [
       "                 name category  \\\n",
       "0          Cappuccino   Coffee   \n",
       "1  Jumbo Savory Scone   Bakery   \n",
       "\n",
       "                                         description  \\\n",
       "0  A rich and creamy cappuccino made with freshly...   \n",
       "1  Deliciously flaky and buttery, this jumbo savo...   \n",
       "\n",
       "                                         ingredients  price  rating  \\\n",
       "0                [Espresso, Steamed Milk, Milk Foam]   4.50     4.7   \n",
       "1  [Flour, Butter, Cheese, Herbs, Baking Powder, ...   3.25     4.3   \n",
       "\n",
       "         image_path  \n",
       "0    cappuccino.jpg  \n",
       "1  SavoryScone.webp  "
      ]
     },
     "execution_count": 8,
     "metadata": {},
     "output_type": "execute_result"
    }
   ],
   "source": [
    "df.head(2)"
   ]
  },
  {
   "cell_type": "code",
   "execution_count": 9,
   "metadata": {},
   "outputs": [],
   "source": [
    "df['text'] =  df['name']+\" : \"+df['description'] + \\\n",
    "                \" -- Ingredients: \" + df['ingredients'].astype(str) + \\\n",
    "                \" -- Price: \" + df['price'].astype(str) + \\\n",
    "                \" -- rating: \" + df['rating'].astype(str) "
   ]
  },
  {
   "cell_type": "code",
   "execution_count": 10,
   "metadata": {},
   "outputs": [
    {
     "data": {
      "text/plain": [
       "0    Cappuccino : A rich and creamy cappuccino made...\n",
       "1    Jumbo Savory Scone : Deliciously flaky and but...\n",
       "2    Latte : Smooth and creamy, our latte combines ...\n",
       "3    Chocolate Chip Biscotti : Crunchy and delightf...\n",
       "4    Espresso shot : A bold shot of rich espresso, ...\n",
       "Name: text, dtype: object"
      ]
     },
     "execution_count": 10,
     "metadata": {},
     "output_type": "execute_result"
    }
   ],
   "source": [
    "df['text'].head()"
   ]
  },
  {
   "cell_type": "code",
   "execution_count": 11,
   "metadata": {},
   "outputs": [],
   "source": [
    "texts = df['text'].tolist()"
   ]
  },
  {
   "cell_type": "code",
   "execution_count": 12,
   "metadata": {},
   "outputs": [
    {
     "data": {
      "text/plain": [
       "[\"Cappuccino : A rich and creamy cappuccino made with freshly brewed espresso, steamed milk, and a frothy milk cap. This delightful drink offers a perfect balance of bold coffee flavor and smooth milk, making it an ideal companion for relaxing mornings or lively conversations. -- Ingredients: ['Espresso', 'Steamed Milk', 'Milk Foam'] -- Price: 4.5 -- rating: 4.7\",\n",
       " \"Jumbo Savory Scone : Deliciously flaky and buttery, this jumbo savory scone is filled with herbs and cheese, creating a mouthwatering experience. Perfect for a hearty snack or a light lunch, it pairs beautifully with your favorite coffee or tea. -- Ingredients: ['Flour', 'Butter', 'Cheese', 'Herbs', 'Baking Powder', 'Salt'] -- Price: 3.25 -- rating: 4.3\"]"
      ]
     },
     "execution_count": 12,
     "metadata": {},
     "output_type": "execute_result"
    }
   ],
   "source": [
    "texts[:2]"
   ]
  },
  {
   "cell_type": "code",
   "execution_count": 14,
   "metadata": {},
   "outputs": [],
   "source": [
    "with open('products/Merry\\'s_way_about_us.txt') as f:\n",
    "    Merry_way_about_section = f.read()\n",
    "    \n",
    "Merry_way_about_section = \"Coffee shop Merry's Way about section: \" + Merry_way_about_section\n",
    "texts.append(Merry_way_about_section)"
   ]
  },
  {
   "cell_type": "code",
   "execution_count": 15,
   "metadata": {},
   "outputs": [
    {
     "data": {
      "text/plain": [
       "\"Coffee shop Merry's Way about section: Welcome to Merry's Way Coffee, your neighborhood coffee shop located in the heart of Greenwich Village, New York City. At Merry's Way, we believe that coffee is more than just a drink—it’s an experience, a moment of joy, and a way to connect with others.\\n\\nOur Story\\nFounded in 2015, Merry’s Way started as a small family-owned café with one mission: to share the love of quality, ethically-sourced coffee with our community.\\n\\nMerry's passion for travel and coffee led her on a journey across South America, where she handpicked partnerships with small farms and cooperatives. We ensure that every cup we brew tells a story of dedication and care, from farm to table. Our beans are roasted in-house to bring out unique flavors that reflect the regions where they were grown.\\n\\nDelivery & Locations Served\\nIn addition to offering a cozy place to enjoy coffee in our café, we proudly deliver to Greenwich Village, SoHo, West Village, and Lower Manhattan. Whether you’re at home, in the office, or enjoying a day at Washington Square Park, we bring your favorite coffee right to your door. Just a click away, our delivery service ensures that you never miss your daily cup, no matter where you are.\\n\\nOur Menu\\nOur menu offers something for everyone, from our signature espresso blends to refreshing cold brews, artisanal teas, and fresh-baked goods sourced from local bakeries. We also cater to a variety of dietary needs with a range of plant-based milk options and gluten-free snacks.\\n\\nCommunity & Sustainability\\nAt Merry's Way, we are more than just coffee. We are part of the community, and we care deeply about sustainability. We use eco-friendly packaging, work with local farmers, and strive to minimize our carbon footprint. Our café regularly hosts events, such as live music nights, art showcases, and community fundraisers, making it a hub for creativity and connection.\\n\\nWorking Hours\\nWe're open every day to make sure you can get your coffee whenever you need it:\\n\\nMonday to Friday: 7 AM – 8 PM\\nSaturday: 8 AM – 8 PM\\nSunday: 8 AM – 6 PM\\nWhether you’re grabbing a coffee on the go or staying to enjoy the warm, inviting atmosphere of our café, Merry’s Way is your destination for coffee done right.\\n\\nStop by today or order online—we can’t wait to serve you!\""
      ]
     },
     "execution_count": 15,
     "metadata": {},
     "output_type": "execute_result"
    }
   ],
   "source": [
    "Merry_way_about_section"
   ]
  },
  {
   "cell_type": "code",
   "execution_count": 16,
   "metadata": {},
   "outputs": [],
   "source": [
    "with open('products/menu_items_text.txt') as f:\n",
    "    menue_items_text = f.read()\n",
    "    \n",
    "menue_items_text = \"Menu Items: \" + menue_items_text\n",
    "texts.append(menue_items_text)"
   ]
  },
  {
   "cell_type": "code",
   "execution_count": 17,
   "metadata": {},
   "outputs": [
    {
     "data": {
      "text/plain": [
       "'Menu Items: Menu Items\\n\\nCappuccino - $4.50\\nJumbo Savory Scone - $3.25\\nLatte - $4.75\\nChocolate Chip Biscotti - $2.50\\nEspresso shot - $2.00\\nHazelnut Biscotti - $2.75\\nChocolate Croissant - $3.75\\nDark chocolate (Drinking Chocolate) - $5.00\\nCranberry Scone - $3.50\\nCroissant - $3.25\\nAlmond Croissant - $4.00\\nGinger Biscotti - $2.50\\nOatmeal Scone - $3.25\\nGinger Scone - $3.50\\nChocolate syrup - $1.50\\nHazelnut syrup - $1.50\\nCarmel syrup - $1.50\\nSugar Free Vanilla syrup - $1.50\\nDark chocolate (Packaged Chocolate) - $3.00'"
      ]
     },
     "execution_count": 17,
     "metadata": {},
     "output_type": "execute_result"
    }
   ],
   "source": [
    "menue_items_text"
   ]
  },
  {
   "cell_type": "markdown",
   "metadata": {},
   "source": []
  },
  {
   "cell_type": "markdown",
   "metadata": {},
   "source": [
    "## Generate Embeddings"
   ]
  },
  {
   "cell_type": "code",
   "execution_count": 18,
   "metadata": {},
   "outputs": [],
   "source": [
    "output = client.embeddings.create(input = texts,model=model_name)"
   ]
  },
  {
   "cell_type": "code",
   "execution_count": 19,
   "metadata": {},
   "outputs": [],
   "source": [
    "embeddings = output.data"
   ]
  },
  {
   "cell_type": "code",
   "execution_count": 20,
   "metadata": {},
   "outputs": [
    {
     "data": {
      "text/plain": [
       "Embedding(embedding=[-0.014078277163207531, -0.06446248292922974, 0.003805713029578328, 0.004784325137734413, 0.030125223100185394, -0.045630402863025665, 0.03723685070872307, 0.010690334253013134, -0.027744507417082787, -0.05091071128845215, -0.052436813712120056, -0.03366577625274658, -0.0004516303597483784, -0.043768562376499176, 0.03757259249687195, -0.01718389242887497, -0.019488302990794182, -0.08063914626836777, -0.07587771862745285, -0.007950983941555023, 0.0483773872256279, -0.06122715026140213, -0.10749851912260056, -0.03699267655611038, 0.03549709916114807, -0.04856051877140999, 0.08790338784456253, -0.01983930729329586, 0.001731170224957168, -0.13075628876686096, -0.012933701276779175, 0.009805195964872837, -0.02801920473575592, -0.025821620598435402, -0.0350392684340477, 0.0010091339936479926, 0.06751468777656555, -0.07593876123428345, 0.047095462679862976, 0.0005737183964811265, -0.002592463279142976, 0.029804741963744164, -0.06415726244449615, -0.002075496595352888, -0.006882713176310062, 0.041632022708654404, -0.047950077801942825, 0.02885856106877327, 0.06928496062755585, -0.028431251645088196, -0.016237709671258926, 0.00704676890745759, 0.0012809706386178732, 0.031773410737514496, 0.035466574132442474, 0.08723190426826477, 0.0018084291368722916, -0.05417656898498535, 0.04633241146802902, 0.053138818591833115, 0.0001901664218166843, -0.000691991182975471, -0.10316438972949982, 0.08076123893260956, -0.004685128573328257, -0.0012647557305172086, -0.06543918699026108, 0.03857982158660889, -0.0292095635086298, 0.12208803743124008, -0.007912831380963326, -0.004879706539213657, 0.049323566257953644, -0.012880288064479828, -0.007355804555118084, 0.028400730341672897, -0.00868351198732853, -0.01787063665688038, 0.005547375418245792, 0.07563354074954987, -0.0550922267138958, 0.06977331638336182, -0.025455355644226074, 0.03635171428322792, 0.0007682961877435446, -0.03482561185956001, 0.07056688517332077, 0.023959778249263763, 0.009568650275468826, 0.01400960236787796, -0.08479014039039612, -0.03406256437301636, -0.027988683432340622, 0.06641589105129242, -0.0008279095054604113, 0.05707615986466408, -0.016726061701774597, 0.009301582351326942, 0.06910183280706406, 0.3403814435005188, -0.02818707562983036, 0.0004571148019749671, 0.06083036586642265, -0.06574440747499466, -0.004200591705739498, -0.017580676823854446, 0.09156602621078491, 0.04526413977146149, 0.02904169261455536, 0.06318055838346481, 0.0001535638584755361, 0.04053322970867157, 0.00409376434981823, -0.10823104530572891, -0.04093001410365105, -0.017260195687413216, 0.008271465077996254, -0.05435970053076744, -0.007340543437749147, 0.027057761326432228, 0.0006142554339021444, 0.03784729167819023, 0.0091718640178442, -0.02351720817387104, 0.040289051830768585, 0.0317428894340992, 0.04105210304260254, 0.025241702795028687, 0.03680954501032829, 0.03632119297981262, -0.048438429832458496, -0.008897165767848492, -3.8689031498506665e-05, -0.004959826823323965, 0.05374925956130028, -0.0005775336758233607, 0.029285868629813194, -0.027057761326432228, 0.042944468557834625, 0.03104088455438614, -0.045630402863025665, -0.019488302990794182, -0.014063015580177307, -0.1383257508277893, -0.03357421234250069, 0.11152742058038712, -0.05851069465279579, 0.009606802836060524, -0.04367699474096298, 0.0350392684340477, -0.023318815976381302, -0.0007268053595907986, -0.028614385053515434, -0.03134610503911972, 0.012796352617442608, 0.02351720817387104, -0.010484310798346996, 0.017901157960295677, -0.05316933989524841, 0.033116381615400314, -0.06263116747140884, -0.021960586309432983, 0.010201982222497463, -0.004780509974807501, 0.01275820005685091, -0.1217828169465065, -0.07911305129528046, 0.0023482870310544968, 0.01352125033736229, -0.019595129415392876, 8.405475455219857e-06, 0.027988683432340622, -0.010316438972949982, 0.015253374353051186, 0.01803850755095482, 0.0017559693660587072, 0.002830916317179799, 0.0035729827359318733, -0.038762953132390976, 0.008149377070367336, 0.03357421234250069, -0.05109384283423424, -0.01492526289075613, -0.02270837500691414, -0.038457732647657394, -0.030125223100185394, -0.018755774945020676, -0.04532518610358238, -0.006688135210424662, 0.04422639310359955, 0.01820637844502926, 0.02304411679506302, 0.002550495555624366, 0.07996766269207001, -0.06623276323080063, 0.060616713017225266, 0.073313869535923, 0.08607206493616104, 0.09223751723766327, 0.02069392241537571, -0.11146637797355652, 0.03201758861541748, 0.0400448776781559, -0.05109384283423424, 0.04953722283244133, 0.041784632951021194, -0.008660620078444481, 0.008301986381411552, 0.0006371469353325665, -0.025104353204369545, -0.04767537862062454, 0.12868079543113708, 0.061440806835889816, -0.02617262303829193, 0.00466986745595932, -0.006535525433719158, -0.043768562376499176, 0.030232051387429237, -0.008202790282666683, -0.02684410847723484, 0.030827229842543602, -0.08985679596662521, -0.05756451189517975, -0.25907081365585327, 0.07056688517332077, 0.010148568078875542, -0.023624036461114883, -0.00967547670006752, -0.043768562376499176, -0.015199961140751839, -0.07526727765798569, 0.042639248073101044, 0.010781900025904179, 0.03601597249507904, -0.05359664931893349, -0.033757343888282776, 0.002766057150438428, 0.013765426352620125, 0.018557382747530937, 0.06763677299022675, -0.0567404180765152, 0.049476176500320435, 0.01201804168522358, 0.04038061946630478, 0.020968621596693993, 0.002527603879570961, 0.021807976067066193, 0.0041204714216291904, -0.024219214916229248, 0.0883917436003685, 0.024417607113718987, 0.013994341716170311, -0.06965122371912003, 0.03226176276803017, 0.03390995413064957, -0.05426813289523125, -0.08063914626836777, -0.02203689143061638, -0.013361009769141674, 0.026981456205248833, -0.04550831764936447, -0.04492839798331261, 0.027271416038274765, -0.016054576262831688, 0.018435293808579445, -0.013032898306846619, -0.028828037902712822, 0.015795139595866203, -0.013780687004327774, -0.0013219845714047551, 0.04016696661710739, -0.062295421957969666, 0.003563444595783949, 0.03189549967646599, 0.008157007396221161, 0.05316933989524841, -0.008843752555549145, 0.03223124146461487, 0.014482693746685982, -0.017458589747548103, -0.021975846961140633, -0.06153237074613571, -0.01652766764163971, -0.02904169261455536, -0.0016748952912166715, 0.012910810299217701, 0.019427258521318436, -0.02936217375099659, 0.025806359946727753, -0.016252970322966576, -0.08149376511573792, 0.05017818510532379, -0.01820637844502926, -0.0070925522595644, 0.08204316347837448, 0.009797564707696438, 0.003870572429150343, 0.12233221530914307, 0.025623226538300514, -0.002781318034976721, 0.0025791097432374954, 0.03415412828326225, 0.019122039899230003, 0.046118758618831635, 0.015535702928900719, 0.0417235866189003, 0.07612188905477524, 0.02469230629503727, 0.031147710978984833, 0.027057761326432228, -0.04352438449859619, 0.029148519039154053, -0.01816059648990631, -0.05460387468338013, -0.0208465326577425, 0.05182637274265289, -0.05316933989524841, 0.05408500134944916, -0.02269311435520649, -0.2370949685573578, 0.016893932595849037, 0.0038152511697262526, 0.043432820588350296, 0.035954926162958145, -0.06690424680709839, -0.03787781298160553, -0.07575562596321106, -0.03314690291881561, -0.011834909208118916, -0.024753350764513016, 0.03882399573922157, 0.043799083679914474, 0.042639248073101044, -0.022235283628106117, 0.019396737217903137, 0.011163424700498581, 0.0801507979631424, 0.06690424680709839, 0.043951693922281265, -0.033116381615400314, -0.014765022322535515, 0.0984029620885849, -0.016283491626381874, -0.02885856106877327, 0.009385517798364162, 0.03265855088829994, -0.017382284626364708, -0.021212797611951828, 0.06788095086812973, -0.047797467559576035, 0.058358084410429, 0.12819243967533112, -0.026905151084065437, 0.013734904117882252, -0.005368058569729328, 0.01458952110260725, 0.0449894443154335, -0.017595939338207245, -0.028721211478114128, -0.004715650342404842, -0.009393148124217987, -0.08607206493616104, -0.06623276323080063, -0.03659588843584061, -0.09431301057338715, -0.013124464079737663, -0.08625520020723343, -0.04859104007482529, -0.05561110004782677, 4.4471522414823994e-05, -0.005535929463803768, -0.010797160677611828, 0.003637842135503888, 0.041967764496803284, 0.023059379309415817, 0.001729262643493712, -0.008820860646665096, 0.022082673385739326, 0.057808686047792435, -0.06116610765457153, 0.03390995413064957, 0.0003259655204601586, 0.12391936033964157, -0.02953004464507103], index=0, object='embedding')"
      ]
     },
     "execution_count": 20,
     "metadata": {},
     "output_type": "execute_result"
    }
   ],
   "source": [
    "embeddings[0]"
   ]
  },
  {
   "cell_type": "code",
   "execution_count": 21,
   "metadata": {},
   "outputs": [
    {
     "data": {
      "text/plain": [
       "384"
      ]
     },
     "execution_count": 21,
     "metadata": {},
     "output_type": "execute_result"
    }
   ],
   "source": [
    "len(embedings)"
   ]
  },
  {
   "cell_type": "markdown",
   "metadata": {},
   "source": [
    "## Push data to database"
   ]
  },
  {
   "cell_type": "code",
   "execution_count": 22,
   "metadata": {},
   "outputs": [],
   "source": [
    "index_name = \"coffeeshop\"\n",
    "\n",
    "pc.create_index(\n",
    "    name=index_name,\n",
    "    dimension=384, # Replace with your model dimensions\n",
    "    metric=\"cosine\", # Replace with your model metric\n",
    "    spec=ServerlessSpec(\n",
    "        cloud=\"aws\",\n",
    "        region=\"us-east-1\"\n",
    "    ) \n",
    ")"
   ]
  },
  {
   "cell_type": "code",
   "execution_count": 23,
   "metadata": {},
   "outputs": [
    {
     "data": {
      "text/plain": [
       "{'upserted_count': 20}"
      ]
     },
     "execution_count": 23,
     "metadata": {},
     "output_type": "execute_result"
    }
   ],
   "source": [
    "# Wait for the index to be ready\n",
    "while not pc.describe_index(index_name).status['ready']:\n",
    "    time.sleep(1)\n",
    "\n",
    "index = pc.Index(index_name)\n",
    "\n",
    "vectors = []\n",
    "for text, e in zip(texts, embeddings):\n",
    "    entry_id = text.split(\":\")[0].strip()\n",
    "    vectors.append({\n",
    "        \"id\": entry_id,\n",
    "        \"values\": e.embedding,\n",
    "        \"metadata\": {'text': text}\n",
    "    })\n",
    "    \n",
    "index.upsert(\n",
    "    vectors=vectors,\n",
    "    namespace=\"ns1\"\n",
    ")"
   ]
  },
  {
   "cell_type": "markdown",
   "metadata": {},
   "source": []
  },
  {
   "cell_type": "markdown",
   "metadata": {},
   "source": [
    "## Get Closest documents"
   ]
  },
  {
   "cell_type": "code",
   "execution_count": 24,
   "metadata": {},
   "outputs": [],
   "source": [
    "output = client.embeddings.create(input = [\"Is Cappuccino lactose-free?\"],model=model_name)\n",
    "embeding = output.data[0].embedding"
   ]
  },
  {
   "cell_type": "code",
   "execution_count": 25,
   "metadata": {},
   "outputs": [
    {
     "name": "stdout",
     "output_type": "stream",
     "text": [
      "{'matches': [{'id': 'Cappuccino',\n",
      "              'metadata': {'text': 'Cappuccino : A rich and creamy cappuccino '\n",
      "                                   'made with freshly brewed espresso, steamed '\n",
      "                                   'milk, and a frothy milk cap. This '\n",
      "                                   'delightful drink offers a perfect balance '\n",
      "                                   'of bold coffee flavor and smooth milk, '\n",
      "                                   'making it an ideal companion for relaxing '\n",
      "                                   'mornings or lively conversations. -- '\n",
      "                                   \"Ingredients: ['Espresso', 'Steamed Milk', \"\n",
      "                                   \"'Milk Foam'] -- Price: 4.5 -- rating: 4.7\"},\n",
      "              'score': 0.734829128,\n",
      "              'values': []},\n",
      "             {'id': 'Sugar Free Vanilla syrup',\n",
      "              'metadata': {'text': 'Sugar Free Vanilla syrup : Enjoy the sweet '\n",
      "                                   'flavor of vanilla without the sugar, '\n",
      "                                   'making it perfect for your coffee or '\n",
      "                                   'dessert. This syrup offers a guilt-free '\n",
      "                                   'way to enhance your beverages, ensuring '\n",
      "                                   'you never miss out on flavor. -- '\n",
      "                                   \"Ingredients: ['Water', 'Natural Flavors', \"\n",
      "                                   \"'Sucralose'] -- Price: 1.5 -- rating: 4.4\"},\n",
      "              'score': 0.62536031,\n",
      "              'values': []},\n",
      "             {'id': 'Menu Items',\n",
      "              'metadata': {'text': 'Menu Items: Menu Items\\n'\n",
      "                                   '\\n'\n",
      "                                   'Cappuccino - $4.50\\n'\n",
      "                                   'Jumbo Savory Scone - $3.25\\n'\n",
      "                                   'Latte - $4.75\\n'\n",
      "                                   'Chocolate Chip Biscotti - $2.50\\n'\n",
      "                                   'Espresso shot - $2.00\\n'\n",
      "                                   'Hazelnut Biscotti - $2.75\\n'\n",
      "                                   'Chocolate Croissant - $3.75\\n'\n",
      "                                   'Dark chocolate (Drinking Chocolate) - '\n",
      "                                   '$5.00\\n'\n",
      "                                   'Cranberry Scone - $3.50\\n'\n",
      "                                   'Croissant - $3.25\\n'\n",
      "                                   'Almond Croissant - $4.00\\n'\n",
      "                                   'Ginger Biscotti - $2.50\\n'\n",
      "                                   'Oatmeal Scone - $3.25\\n'\n",
      "                                   'Ginger Scone - $3.50\\n'\n",
      "                                   'Chocolate syrup - $1.50\\n'\n",
      "                                   'Hazelnut syrup - $1.50\\n'\n",
      "                                   'Carmel syrup - $1.50\\n'\n",
      "                                   'Sugar Free Vanilla syrup - $1.50\\n'\n",
      "                                   'Dark chocolate (Packaged Chocolate) - '\n",
      "                                   '$3.00'},\n",
      "              'score': 0.612039387,\n",
      "              'values': []}],\n",
      " 'namespace': 'ns1',\n",
      " 'usage': {'read_units': 6}}\n"
     ]
    }
   ],
   "source": [
    "results = index.query(\n",
    "    namespace=\"ns1\",\n",
    "    vector=embeding,\n",
    "    top_k=3,\n",
    "    include_values=False,\n",
    "    include_metadata=True\n",
    ")\n",
    "\n",
    "print(results)"
   ]
  },
  {
   "cell_type": "code",
   "execution_count": 26,
   "metadata": {},
   "outputs": [],
   "source": [
    "source_knowledge = \"\\n\".join([x['metadata']['text'].strip()+'\\n' for x in results['matches'] ])"
   ]
  },
  {
   "cell_type": "code",
   "execution_count": 27,
   "metadata": {},
   "outputs": [
    {
     "data": {
      "text/plain": [
       "\"Cappuccino : A rich and creamy cappuccino made with freshly brewed espresso, steamed milk, and a frothy milk cap. This delightful drink offers a perfect balance of bold coffee flavor and smooth milk, making it an ideal companion for relaxing mornings or lively conversations. -- Ingredients: ['Espresso', 'Steamed Milk', 'Milk Foam'] -- Price: 4.5 -- rating: 4.7\\n\\nSugar Free Vanilla syrup : Enjoy the sweet flavor of vanilla without the sugar, making it perfect for your coffee or dessert. This syrup offers a guilt-free way to enhance your beverages, ensuring you never miss out on flavor. -- Ingredients: ['Water', 'Natural Flavors', 'Sucralose'] -- Price: 1.5 -- rating: 4.4\\n\\nMenu Items: Menu Items\\n\\nCappuccino - $4.50\\nJumbo Savory Scone - $3.25\\nLatte - $4.75\\nChocolate Chip Biscotti - $2.50\\nEspresso shot - $2.00\\nHazelnut Biscotti - $2.75\\nChocolate Croissant - $3.75\\nDark chocolate (Drinking Chocolate) - $5.00\\nCranberry Scone - $3.50\\nCroissant - $3.25\\nAlmond Croissant - $4.00\\nGinger Biscotti - $2.50\\nOatmeal Scone - $3.25\\nGinger Scone - $3.50\\nChocolate syrup - $1.50\\nHazelnut syrup - $1.50\\nCarmel syrup - $1.50\\nSugar Free Vanilla syrup - $1.50\\nDark chocolate (Packaged Chocolate) - $3.00\\n\""
      ]
     },
     "execution_count": 27,
     "metadata": {},
     "output_type": "execute_result"
    }
   ],
   "source": [
    "source_knowledge"
   ]
  },
  {
   "cell_type": "code",
   "execution_count": 38,
   "metadata": {},
   "outputs": [
    {
     "name": "stdout",
     "output_type": "stream",
     "text": [
      "Cappuccino : A rich and creamy cappuccino made with freshly brewed espresso, steamed milk, and a frothy milk cap. This delightful drink offers a perfect balance of bold coffee flavor and smooth milk, making it an ideal companion for relaxing mornings or lively conversations. -- Ingredients: ['Espresso', 'Steamed Milk', 'Milk Foam'] -- Price: 4.5 -- rating: 4.7\n"
     ]
    }
   ],
   "source": [
    "dict = {\n",
    "    'text': 'Cappuccino : A rich and creamy cappuccino '\n",
    "            'made with freshly brewed espresso, steamed '\n",
    "            'milk, and a frothy milk cap. This '\n",
    "            'delightful drink offers a perfect balance '\n",
    "            'of bold coffee flavor and smooth milk, '\n",
    "            'making it an ideal companion for relaxing '\n",
    "            'mornings or lively conversations. -- '\n",
    "            \"Ingredients: ['Espresso', 'Steamed Milk', \"\n",
    "            \"'Milk Foam'] -- Price: 4.5 -- rating: 4.7\"\n",
    "}\n",
    "\n",
    "print(dict['text'])\n"
   ]
  },
  {
   "cell_type": "code",
   "execution_count": 37,
   "metadata": {},
   "outputs": [
    {
     "name": "stdout",
     "output_type": "stream",
     "text": [
      "dict['text']\n"
     ]
    }
   ],
   "source": []
  },
  {
   "cell_type": "code",
   "execution_count": null,
   "metadata": {},
   "outputs": [],
   "source": []
  }
 ],
 "metadata": {
  "kernelspec": {
   "display_name": "coffee_shop_dev_env",
   "language": "python",
   "name": "python3"
  },
  "language_info": {
   "codemirror_mode": {
    "name": "ipython",
    "version": 3
   },
   "file_extension": ".py",
   "mimetype": "text/x-python",
   "name": "python",
   "nbconvert_exporter": "python",
   "pygments_lexer": "ipython3",
   "version": "3.9.21"
  }
 },
 "nbformat": 4,
 "nbformat_minor": 2
}
